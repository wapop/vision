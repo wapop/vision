{
 "cells": [
  {
   "cell_type": "code",
   "execution_count": 37,
   "metadata": {},
   "outputs": [],
   "source": [
    "import cv2\n",
    "import numpy as np\n",
    "from matplotlib import pyplot as plt\n",
    "import subprocess as sp\n",
    "%matplotlib inline\n",
    "\n",
    "def imshow(tit, image) :\n",
    "    plt.title(tit)    \n",
    "    if len(image.shape) == 3 :\n",
    "        plt.imshow(cv2.cvtColor(image, cv2.COLOR_BGR2RGB))\n",
    "    else :\n",
    "        plt.imshow(image, cmap=\"gray\")\n",
    "    plt.show()"
   ]
  },
  {
   "cell_type": "markdown",
   "metadata": {},
   "source": [
    "cap= cv2.VideoCapture(\"video.mp4\")\n",
    "for i in range(100):\n",
    "    ret, frame= cap.read()\n",
    "    cv2.imshow('frame', frame)\n",
    "    if cv2.waitKey(30)==27:\n",
    "        break\n",
    "        \n",
    "cv2.destroyAllWindows()"
   ]
  },
  {
   "cell_type": "code",
   "execution_count": 26,
   "metadata": {},
   "outputs": [],
   "source": [
    "img= cv2.VideoCapture(\"dance.mp4\")"
   ]
  },
  {
   "cell_type": "code",
   "execution_count": 27,
   "metadata": {},
   "outputs": [],
   "source": [
    "def chromakey(img) :    \n",
    "    hsv = cv2.cvtColor(img, cv2.COLOR_BGR2HSV)\n",
    "    patch = hsv[0:20, 0:20, :]\n",
    "    minH = np.min(patch[:,:,0])*0.9\n",
    "    maxH = np.max(patch[:,:,0])*1.1\n",
    "    minS = np.min(patch[:,:,1])*0.9\n",
    "    maxS = np.max(patch[:,:,1])*1.1\n",
    "    h = hsv[:,:,0]\n",
    "    s = hsv[:,:,1]\n",
    "    dest = img.copy()\n",
    "    for r in range(img.shape[0]) :\n",
    "        for c in range(img.shape[1]) :\n",
    "            if h[r,c] >= minH and h[r,c] <= maxH and   s[r,c] >= minS  and s[r,c] <= maxS : \n",
    "                dest[r,c, :] = [0,0,0]         \n",
    "            else :\n",
    "                dest[r,c, :] =  img[r,c,:]\n",
    "    return dest    "
   ]
  },
  {
   "cell_type": "code",
   "execution_count": null,
   "metadata": {},
   "outputs": [],
   "source": [
    "cap = cv2.VideoCapture('dance.mp4')\n",
    "background= cv2.imread(\"background.jpg\")\n",
    "background= cv2.resize(background,dsize=(320,240) )\n",
    "for i in range(25*6) : \n",
    "        ret, frame = cap.read()\n",
    "        frame = cv2.resize(frame, dsize=(320,240)) \n",
    "                        \n",
    "        dest = chromakey(frame)\n",
    "        \n",
    "        dest = np.hstack((frame, dest))\n",
    "        cv2.imshow('frame', dest)        \n",
    "        \n",
    "        if cv2.waitKey(100) == 27:\n",
    "            break\n",
    "\n",
    "cv2.destroyAllWindows()"
   ]
  },
  {
   "cell_type": "code",
   "execution_count": null,
   "metadata": {},
   "outputs": [],
   "source": []
  }
 ],
 "metadata": {
  "kernelspec": {
   "display_name": "Python 3",
   "language": "python",
   "name": "python3"
  },
  "language_info": {
   "codemirror_mode": {
    "name": "ipython",
    "version": 3
   },
   "file_extension": ".py",
   "mimetype": "text/x-python",
   "name": "python",
   "nbconvert_exporter": "python",
   "pygments_lexer": "ipython3",
   "version": "3.7.6"
  },
  "toc": {
   "base_numbering": 1,
   "nav_menu": {},
   "number_sections": false,
   "sideBar": true,
   "skip_h1_title": false,
   "title_cell": "Table of Contents",
   "title_sidebar": "Contents",
   "toc_cell": false,
   "toc_position": {},
   "toc_section_display": true,
   "toc_window_display": false
  }
 },
 "nbformat": 4,
 "nbformat_minor": 4
}
