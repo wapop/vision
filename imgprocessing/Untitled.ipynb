{
 "cells": [
  {
   "cell_type": "code",
   "execution_count": 2,
   "metadata": {},
   "outputs": [],
   "source": [
    "import cv2\n",
    "import numpy as np\n",
    "from matplotlib import pyplot as plt\n",
    "%matplotlib inline "
   ]
  },
  {
   "cell_type": "code",
   "execution_count": 13,
   "metadata": {},
   "outputs": [],
   "source": [
    "yellow = cv2.imread(\"yellow.jpg\")"
   ]
  },
  {
   "cell_type": "code",
   "execution_count": 14,
   "metadata": {},
   "outputs": [],
   "source": [
    "def imshow(title, img):\n",
    "    plt.title(title)\n",
    "    if len(img.shape) == 3:\n",
    "        plt.imshow(cv2.cvtColor(img, cv2.COLOR_BGR2RGB))\n",
    "    else:\n",
    "        plt.imshow(img, cmap='gray')"
   ]
  },
  {
   "cell_type": "code",
   "execution_count": 22,
   "metadata": {},
   "outputs": [
    {
     "name": "stdout",
     "output_type": "stream",
     "text": [
      "(463, 236, 3)\n",
      "(463, 236)\n"
     ]
    }
   ],
   "source": [
    "hsv= cv2.cvtColor(yellow, cv2.COLOR_BGR2HSV)\n",
    "print(hsv.shape)\n",
    "h= hsv[:,:,0]\n",
    "s=hsv[:,:,1]\n",
    "print(h.shape)"
   ]
  },
  {
   "cell_type": "code",
   "execution_count": 23,
   "metadata": {},
   "outputs": [],
   "source": [
    "for r in range(yellow.shape[0]): #row\n",
    "    for c in range(yellow.shape[1]): #column\n",
    "        yellow[r,c,:]= [0,0,0]\n",
    "        #모든픽셀을 000으로 출력-->(bgr)검정색으로 나옴\n",
    "        "
   ]
  },
  {
   "cell_type": "code",
   "execution_count": 24,
   "metadata": {},
   "outputs": [],
   "source": [
    "for r in range(yellow.shape[0]):\n",
    "    for c in range(yellow.shape[1]):\n",
    "        yellow[r,c,1]= 0\n",
    "        yellow[r,c,2]=0 #B만 남기는등 픽셀값 제어 가능"
   ]
  },
  {
   "cell_type": "code",
   "execution_count": 28,
   "metadata": {},
   "outputs": [
    {
     "name": "stdout",
     "output_type": "stream",
     "text": [
      "(463, 472, 3)\n"
     ]
    },
    {
     "data": {
      "image/png": "[encoded data removed]",
      "text/plain": [
       "<Figure size 432x288 with 1 Axes>"
      ]
     },
     "metadata": {
      "needs_background": "light"
     },
     "output_type": "display_data"
    }
   ],
   "source": [
    "dest=yellow.copy()\n",
    "for r in range(yellow.shape[0]):\n",
    "    for c in range(yellow.shape[1]):\n",
    "        if h[r,c]>=10 and h[r,c]<=50 and s[r,c]>=170 and s[r,c]<230:\n",
    "            dest[r,c,:]=yellow[r,c,:] #[255,255,255]\n",
    "        else:\n",
    "            dest[r,c,:]= [0,0,0]\n",
    "imshow(\"src\", yellow)\n",
    "imshow(\"yellow\", dest)\n",
    "\n",
    "dest2=np.hstack((yellow, dest))\n",
    "print(dest2.shape)\n",
    "imshow(\"yellow\",dest2)"
   ]
  },
  {
   "cell_type": "code",
   "execution_count": 21,
   "metadata": {},
   "outputs": [
    {
     "data": {
      "image/png": "[encoded data removed]",
      "text/plain": [
       "<Figure size 432x288 with 1 Axes>"
      ]
     },
     "metadata": {
      "needs_background": "light"
     },
     "output_type": "display_data"
    }
   ],
   "source": [
    "imshow (\"yellow\",yellow)"
   ]
  },
  {
   "cell_type": "code",
   "execution_count": null,
   "metadata": {},
   "outputs": [],
   "source": []
  },
  {
   "cell_type": "code",
   "execution_count": null,
   "metadata": {},
   "outputs": [],
   "source": []
  },
  {
   "cell_type": "code",
   "execution_count": null,
   "metadata": {},
   "outputs": [],
   "source": []
  }
 ],
 "metadata": {
  "kernelspec": {
   "display_name": "Python 3",
   "language": "python",
   "name": "python3"
  },
  "language_info": {
   "codemirror_mode": {
    "name": "ipython",
    "version": 3
   },
   "file_extension": ".py",
   "mimetype": "text/x-python",
   "name": "python",
   "nbconvert_exporter": "python",
   "pygments_lexer": "ipython3",
   "version": "3.7.6"
  },
  "toc": {
   "base_numbering": 1,
   "nav_menu": {},
   "number_sections": false,
   "sideBar": true,
   "skip_h1_title": false,
   "title_cell": "Table of Contents",
   "title_sidebar": "Contents",
   "toc_cell": false,
   "toc_position": {},
   "toc_section_display": true,
   "toc_window_display": false
  }
 },
 "nbformat": 4,
 "nbformat_minor": 4
}
