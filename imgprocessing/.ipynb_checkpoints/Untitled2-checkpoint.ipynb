{
 "cells": [
  {
   "cell_type": "code",
   "execution_count": 1,
   "metadata": {},
   "outputs": [],
   "source": [
    "import subprocess as sp"
   ]
  },
  {
   "cell_type": "code",
   "execution_count": 2,
   "metadata": {},
   "outputs": [
    {
     "name": "stdout",
     "output_type": "stream",
     "text": [
      "Overwriting server1.py\n"
     ]
    }
   ],
   "source": [
    "%%writefile server1.py\n",
    "import cv2\n",
    "import numpy as np\n",
    "import subprocess as sp\n",
    "import datetime\n",
    "\n",
    "from flask import Flask, request\n",
    "app = Flask(__name__)\n",
    "\n",
    "def chromakey(img, background) :    \n",
    "    hsv = cv2.cvtColor(img, cv2.COLOR_BGR2HSV)\n",
    "    patch = hsv[0:20, 0:20, :]\n",
    "    minH = np.min(patch[:,:,0])*0.9\n",
    "    maxH = np.max(patch[:,:,0])*1.1\n",
    "    minS = np.min(patch[:,:,1])*0.9\n",
    "    maxS = np.max(patch[:,:,1])*1.1\n",
    "    h = hsv[:,:,0]\n",
    "    s = hsv[:,:,1]\n",
    "    dest = img.copy()\n",
    "    for r in range(img.shape[0]) :\n",
    "        for c in range(img.shape[1]) :\n",
    "            if h[r,c] >= minH and h[r,c] <= maxH and   s[r,c] >= minS  and s[r,c] <= maxS : \n",
    "                dest[r,c, :] = background[r,c,:]\n",
    "            else :\n",
    "                dest[r,c, :] =  img[r,c,:]\n",
    "    return dest        \n",
    "\n",
    "\n",
    "@app.route('/')\n",
    "def index():\n",
    "    html= \"\"\"\n",
    "        <form action=/upload method=post enctype=\"multipart/form-data\">\n",
    "            <input type=file name=file1> <input type=submit value=\"전송\">\n",
    "        </form>\n",
    "    \"\"\"\n",
    "    return html\n",
    "\n",
    "@app.route('/upload', methods=[\"post\"])\n",
    "def upload():\n",
    "    f= request.files['file1']\n",
    "    filename=\"./static/\"+f.filename\n",
    "    f.save(filename)\n",
    "    \n",
    "    backimg= request.form.get(\"backimg\")\n",
    "    \n",
    "    img= cv2.imread(filename)\n",
    "    img=cv2.resize(img, dsize=(320,240))\n",
    "    \n",
    "    background= cv2.imread('background.jpg'+backimg)\n",
    "    background= cv2.resize(background, dsize=(320,240))\n",
    "    \n",
    "    img= chromakey(img, background)\n",
    "    cv2.imwrite(filename, img)   \n",
    "    \n",
    "    return \"<img src=/static/\"+f.filename+\"?\" + datetime.datetime.now().strftime('%H%M%S')+\">\"\n",
    "\n",
    "if __name__ == '__main__':\n",
    "    app.run(host='0.0.0.0', debug=True, port=8001)\n"
   ]
  },
  {
   "cell_type": "code",
   "execution_count": 3,
   "metadata": {},
   "outputs": [],
   "source": [
    "server= sp.Popen(\"python server1.py\", shell=True)"
   ]
  },
  {
   "cell_type": "markdown",
   "metadata": {},
   "source": [
    "%%writefile server1.py\n",
    "주피터노트북과 별개라서 이 안에 import"
   ]
  }
 ],
 "metadata": {
  "kernelspec": {
   "display_name": "Python 3",
   "language": "python",
   "name": "python3"
  },
  "language_info": {
   "codemirror_mode": {
    "name": "ipython",
    "version": 3
   },
   "file_extension": ".py",
   "mimetype": "text/x-python",
   "name": "python",
   "nbconvert_exporter": "python",
   "pygments_lexer": "ipython3",
   "version": "3.7.6"
  },
  "toc": {
   "base_numbering": 1,
   "nav_menu": {},
   "number_sections": false,
   "sideBar": true,
   "skip_h1_title": false,
   "title_cell": "Table of Contents",
   "title_sidebar": "Contents",
   "toc_cell": false,
   "toc_position": {},
   "toc_section_display": true,
   "toc_window_display": false
  }
 },
 "nbformat": 4,
 "nbformat_minor": 4
}
