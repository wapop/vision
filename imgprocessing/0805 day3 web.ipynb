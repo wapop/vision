{
 "cells": [
  {
   "cell_type": "code",
   "execution_count": 2,
   "metadata": {},
   "outputs": [],
   "source": [
    "import subprocess as sp"
   ]
  },
  {
   "cell_type": "code",
   "execution_count": 14,
   "metadata": {},
   "outputs": [
    {
     "name": "stdout",
     "output_type": "stream",
     "text": [
      "Overwriting server.py\n"
     ]
    }
   ],
   "source": [
    "%%writefile server.py\n",
    "\n",
    "import cv2\n",
    "import numpy as np\n",
    "from flask import Flask, request, render_template, redirect\n",
    "import datetime\n",
    "\n",
    "image= None\n",
    "\n",
    "app = Flask(__name__)\n",
    "\n",
    "@app.route('/')\n",
    "def index():\n",
    "    return render_template(\"imgprocessing.html\", ctx={\"title\":\"영상처리\"})\n",
    "\n",
    "@app.route('/upload',methods = ['POST'])\n",
    "def upload():\n",
    "    global image\n",
    "    f = request.files['file1']   \n",
    "    filename = \"./static/\" + f.filename\n",
    "    f.save(filename)    \n",
    "    image= cv2.imread(filename)\n",
    "    cv2.imwrite(\"./static/result.jpg\", image)\n",
    "    print(image.shape)\n",
    "    return redirect(\"/\")\n",
    "\n",
    "@app.route('/imgprocess')\n",
    "def imgprocess():\n",
    "    global image\n",
    "    method= request.args.get(\"method\")\n",
    "    if method == \"emboss\":\n",
    "        print(\"emboss\")\n",
    "        print(image.shape)\n",
    "        emboss = np.array([[-1, -1, 0], \n",
    "                  [-1,  0,  1],\n",
    "                  [0,   1,  1]], np.float32)\n",
    "        dst=cv2.filter2D(image, -1, emboss, delta=128)\n",
    "        cv2.imwrite(\"./static/result.jpg\", np.hstack((image,dst)))\n",
    "        \n",
    "    if method == \"sharp\":\n",
    "        sharp = np.array([[0, -1, 0], \n",
    "                          [-1,  5,  -1],\n",
    "                          [0,   -1,  0]], np.float32)\n",
    "        dst=cv2.filter2D(image, -1, sharp)\n",
    "        cv2.imwrite(\"./static/result.jpg\", np.hstack((image,dst)))        \n",
    "\n",
    "    if method == \"blur\":\n",
    "        size = int(request.args.get(\"size\", 3))\n",
    "        dst = cv2.blur(image, (size,size))\n",
    "        cv2.imwrite(\"./static/result.jpg\", np.hstack((image, dst)))\n",
    "        \n",
    "    return \"hello\"\n",
    "\n",
    "if __name__ == '__main__':\n",
    "     app.run(host='0.0.0.0', debug=True, port=8000)      "
   ]
  },
  {
   "cell_type": "code",
   "execution_count": null,
   "metadata": {},
   "outputs": [],
   "source": []
  }
 ],
 "metadata": {
  "kernelspec": {
   "display_name": "Python 3",
   "language": "python",
   "name": "python3"
  },
  "language_info": {
   "codemirror_mode": {
    "name": "ipython",
    "version": 3
   },
   "file_extension": ".py",
   "mimetype": "text/x-python",
   "name": "python",
   "nbconvert_exporter": "python",
   "pygments_lexer": "ipython3",
   "version": "3.7.6"
  },
  "toc": {
   "base_numbering": 1,
   "nav_menu": {},
   "number_sections": false,
   "sideBar": true,
   "skip_h1_title": false,
   "title_cell": "Table of Contents",
   "title_sidebar": "Contents",
   "toc_cell": false,
   "toc_position": {},
   "toc_section_display": true,
   "toc_window_display": false
  }
 },
 "nbformat": 4,
 "nbformat_minor": 4
}
